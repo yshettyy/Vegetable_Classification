{
  "nbformat": 4,
  "nbformat_minor": 0,
  "metadata": {
    "colab": {
      "name": "veg_classification_vgg_model.ipynb",
      "provenance": [],
      "collapsed_sections": []
    },
    "kernelspec": {
      "name": "python3",
      "display_name": "Python 3"
    }
  },
  "cells": [
    {
      "cell_type": "code",
      "metadata": {
        "id": "ZywyewfqhA7e",
        "colab_type": "code",
        "colab": {}
      },
      "source": [
        "import keras,os\n",
        "from keras.layers import Dense, Conv2D, MaxPool2D , Flatten # import Dense(output), flatten & other req layers\n",
        "from keras.preprocessing.image import ImageDataGenerator\n",
        "import numpy as np\n",
        "from keras.layers import Input, Lambda, Dense, Flatten\n",
        "from keras.models import Model # import models\n",
        "from keras.applications.vgg16 import VGG16 # import vgg 16 from keras application\n",
        "from keras.applications.vgg16 import preprocess_input # to preprocess the input images\n",
        "from keras.preprocessing import image\n",
        "from keras.models import Sequential # we are creating  sequential model and vgg itself is a sequential model\n",
        "from glob import glob\n",
        "import matplotlib.pyplot as plt # to plot the parameters\n",
        "%matplotlib inline"
      ],
      "execution_count": 0,
      "outputs": []
    },
    {
      "cell_type": "code",
      "metadata": {
        "id": "Tlng6XWHhTY8",
        "colab_type": "code",
        "colab": {
          "base_uri": "https://localhost:8080/",
          "height": 51
        },
        "outputId": "da8f9449-3905-4aa7-835c-29b376e8cd4e"
      },
      "source": [
        "trdata = ImageDataGenerator()\n",
        "traindata = trdata.flow_from_directory(directory=\"/content/drive/My Drive/Big_data_sem2/Output_4/Output_4/train\",target_size=(224,224))\n",
        "#training path\n",
        "tsdata = ImageDataGenerator()\n",
        "testdata = tsdata.flow_from_directory(directory=\"/content/drive/My Drive/Big_data_sem2/Output_4/Output_4/test\", target_size=(224,224))\n",
        "# Test path"
      ],
      "execution_count": 16,
      "outputs": [
        {
          "output_type": "stream",
          "text": [
            "Found 5380 images belonging to 32 classes.\n",
            "Found 1369 images belonging to 32 classes.\n"
          ],
          "name": "stdout"
        }
      ]
    },
    {
      "cell_type": "code",
      "metadata": {
        "id": "_o9v47m-hqH5",
        "colab_type": "code",
        "colab": {}
      },
      "source": [
        "IMAGE_SIZE = [224, 224] # input image size is 224,224 in vgg16"
      ],
      "execution_count": 0,
      "outputs": []
    },
    {
      "cell_type": "code",
      "metadata": {
        "id": "ts05fX0Zhtn4",
        "colab_type": "code",
        "colab": {}
      },
      "source": [
        "vgg = VGG16(input_shape=IMAGE_SIZE + [3], weights='imagenet', include_top=False) \n",
        "# here we initialising vgg 16 model and removing the last layer because we have 32 categories\n",
        "# Input shape will me 224,224 plus the no channels which is 3(RGB),wights will provided from imagenet already present in keras"
      ],
      "execution_count": 0,
      "outputs": []
    },
    {
      "cell_type": "code",
      "metadata": {
        "id": "J5zo0oInhv1k",
        "colab_type": "code",
        "colab": {}
      },
      "source": [
        "for layer in vgg.layers:\n",
        "  layer.trainable = False\n",
        "  # we are not training th existing vgg 16 layer because it is alreaady trained, weights are fixed."
      ],
      "execution_count": 0,
      "outputs": []
    },
    {
      "cell_type": "code",
      "metadata": {
        "id": "h5FYgdekh0jM",
        "colab_type": "code",
        "colab": {}
      },
      "source": [
        "folders = glob('/content/drive/My Drive/Big_data_sem2/Output_4/Output_4/train/*')\n",
        "#  In order to add the last layer we will be uing glob function to see the categoris present in the train set"
      ],
      "execution_count": 0,
      "outputs": []
    },
    {
      "cell_type": "code",
      "metadata": {
        "id": "9ZLl-ADih3Nw",
        "colab_type": "code",
        "colab": {
          "base_uri": "https://localhost:8080/",
          "height": 54
        },
        "outputId": "ae255d63-b63c-48b3-ccb0-03a08bfe8c9e"
      },
      "source": [
        "print(folders) # printing the categories"
      ],
      "execution_count": 21,
      "outputs": [
        {
          "output_type": "stream",
          "text": [
            "['/content/drive/My Drive/Big_data_sem2/Output_4/Output_4/train/Cabbage', '/content/drive/My Drive/Big_data_sem2/Output_4/Output_4/train/Cauliflower', '/content/drive/My Drive/Big_data_sem2/Output_4/Output_4/train/Broccoli', '/content/drive/My Drive/Big_data_sem2/Output_4/Output_4/train/Chilli peppers', '/content/drive/My Drive/Big_data_sem2/Output_4/Output_4/train/Celeriac', '/content/drive/My Drive/Big_data_sem2/Output_4/Output_4/train/Carrots', '/content/drive/My Drive/Big_data_sem2/Output_4/Output_4/train/Capsicums', '/content/drive/My Drive/Big_data_sem2/Output_4/Output_4/train/Celery', '/content/drive/My Drive/Big_data_sem2/Output_4/Output_4/train/Kale and Cavolo Nero', '/content/drive/My Drive/Big_data_sem2/Output_4/Output_4/train/Ginger', '/content/drive/My Drive/Big_data_sem2/Output_4/Output_4/train/Chokos', '/content/drive/My Drive/Big_data_sem2/Output_4/Output_4/train/Fennel', '/content/drive/My Drive/Big_data_sem2/Output_4/Output_4/train/Garlic', '/content/drive/My Drive/Big_data_sem2/Output_4/Output_4/train/Fresh  garnishes and flowers', '/content/drive/My Drive/Big_data_sem2/Output_4/Output_4/train/Indian vegetables', '/content/drive/My Drive/Big_data_sem2/Output_4/Output_4/train/Courgettes and Scallopini', '/content/drive/My Drive/Big_data_sem2/Output_4/Output_4/train/Eggplant', '/content/drive/My Drive/Big_data_sem2/Output_4/Output_4/train/Cucumber', '/content/drive/My Drive/Big_data_sem2/Output_4/Output_4/train/Kohlrabi', '/content/drive/My Drive/Big_data_sem2/Output_4/Output_4/train/Spinach', '/content/drive/My Drive/Big_data_sem2/Output_4/Output_4/train/Onions', '/content/drive/My Drive/Big_data_sem2/Output_4/Output_4/train/Melons', '/content/drive/My Drive/Big_data_sem2/Output_4/Output_4/train/Potatoes', '/content/drive/My Drive/Big_data_sem2/Output_4/Output_4/train/Pumpkins', '/content/drive/My Drive/Big_data_sem2/Output_4/Output_4/train/Spring onions', '/content/drive/My Drive/Big_data_sem2/Output_4/Output_4/train/Radishes', '/content/drive/My Drive/Big_data_sem2/Output_4/Output_4/train/Okra', '/content/drive/My Drive/Big_data_sem2/Output_4/Output_4/train/Mushrooms', '/content/drive/My Drive/Big_data_sem2/Output_4/Output_4/train/Turnips', '/content/drive/My Drive/Big_data_sem2/Output_4/Output_4/train/Sweet corn', '/content/drive/My Drive/Big_data_sem2/Output_4/Output_4/train/Tomatoes', '/content/drive/My Drive/Big_data_sem2/Output_4/Output_4/train/Yams']\n"
          ],
          "name": "stdout"
        }
      ]
    },
    {
      "cell_type": "code",
      "metadata": {
        "id": "jxltLeuXh6bU",
        "colab_type": "code",
        "colab": {}
      },
      "source": [
        "# our layers - you can add more if you want\n",
        "x = Flatten()(vgg.output) # flatten the last layer\n",
        "# x = Dense(1000, activation='relu')(x)\n",
        "prediction = Dense(len(folders), activation='softmax')(x) # appending the folders as a dense layer with softmx as the\n",
        "# activation function"
      ],
      "execution_count": 0,
      "outputs": []
    },
    {
      "cell_type": "code",
      "metadata": {
        "id": "nuP59JpbiB1R",
        "colab_type": "code",
        "colab": {}
      },
      "source": [
        "# create a model object\n",
        "model = Model(inputs=vgg.input, outputs=prediction)\n",
        "# convert it into model where vgg.input and output "
      ],
      "execution_count": 0,
      "outputs": []
    },
    {
      "cell_type": "code",
      "metadata": {
        "id": "OfLUqQu-iHWj",
        "colab_type": "code",
        "colab": {
          "base_uri": "https://localhost:8080/",
          "height": 867
        },
        "outputId": "5ef545d0-bb46-4f14-d6d7-624060cac888"
      },
      "source": [
        "# view the structure of the model\n",
        "model.summary()"
      ],
      "execution_count": 24,
      "outputs": [
        {
          "output_type": "stream",
          "text": [
            "Model: \"model_2\"\n",
            "_________________________________________________________________\n",
            "Layer (type)                 Output Shape              Param #   \n",
            "=================================================================\n",
            "input_2 (InputLayer)         (None, 224, 224, 3)       0         \n",
            "_________________________________________________________________\n",
            "block1_conv1 (Conv2D)        (None, 224, 224, 64)      1792      \n",
            "_________________________________________________________________\n",
            "block1_conv2 (Conv2D)        (None, 224, 224, 64)      36928     \n",
            "_________________________________________________________________\n",
            "block1_pool (MaxPooling2D)   (None, 112, 112, 64)      0         \n",
            "_________________________________________________________________\n",
            "block2_conv1 (Conv2D)        (None, 112, 112, 128)     73856     \n",
            "_________________________________________________________________\n",
            "block2_conv2 (Conv2D)        (None, 112, 112, 128)     147584    \n",
            "_________________________________________________________________\n",
            "block2_pool (MaxPooling2D)   (None, 56, 56, 128)       0         \n",
            "_________________________________________________________________\n",
            "block3_conv1 (Conv2D)        (None, 56, 56, 256)       295168    \n",
            "_________________________________________________________________\n",
            "block3_conv2 (Conv2D)        (None, 56, 56, 256)       590080    \n",
            "_________________________________________________________________\n",
            "block3_conv3 (Conv2D)        (None, 56, 56, 256)       590080    \n",
            "_________________________________________________________________\n",
            "block3_pool (MaxPooling2D)   (None, 28, 28, 256)       0         \n",
            "_________________________________________________________________\n",
            "block4_conv1 (Conv2D)        (None, 28, 28, 512)       1180160   \n",
            "_________________________________________________________________\n",
            "block4_conv2 (Conv2D)        (None, 28, 28, 512)       2359808   \n",
            "_________________________________________________________________\n",
            "block4_conv3 (Conv2D)        (None, 28, 28, 512)       2359808   \n",
            "_________________________________________________________________\n",
            "block4_pool (MaxPooling2D)   (None, 14, 14, 512)       0         \n",
            "_________________________________________________________________\n",
            "block5_conv1 (Conv2D)        (None, 14, 14, 512)       2359808   \n",
            "_________________________________________________________________\n",
            "block5_conv2 (Conv2D)        (None, 14, 14, 512)       2359808   \n",
            "_________________________________________________________________\n",
            "block5_conv3 (Conv2D)        (None, 14, 14, 512)       2359808   \n",
            "_________________________________________________________________\n",
            "block5_pool (MaxPooling2D)   (None, 7, 7, 512)         0         \n",
            "_________________________________________________________________\n",
            "flatten_2 (Flatten)          (None, 25088)             0         \n",
            "_________________________________________________________________\n",
            "dense_2 (Dense)              (None, 32)                802848    \n",
            "=================================================================\n",
            "Total params: 15,517,536\n",
            "Trainable params: 802,848\n",
            "Non-trainable params: 14,714,688\n",
            "_________________________________________________________________\n"
          ],
          "name": "stdout"
        }
      ]
    },
    {
      "cell_type": "code",
      "metadata": {
        "id": "a00QuOJeiJ1n",
        "colab_type": "code",
        "colab": {}
      },
      "source": [
        "# tell the model what cost and optimization method to use\n",
        "model.compile(\n",
        "  loss='categorical_crossentropy',\n",
        "  optimizer='adam',\n",
        "  metrics=['accuracy']\n",
        ")\n"
      ],
      "execution_count": 0,
      "outputs": []
    },
    {
      "cell_type": "code",
      "metadata": {
        "id": "LzSevFqAiMhS",
        "colab_type": "code",
        "colab": {
          "base_uri": "https://localhost:8080/",
          "height": 785
        },
        "outputId": "625068d9-8c62-4baf-84c4-9c13444d46cf"
      },
      "source": [
        "from keras.callbacks import ModelCheckpoint, EarlyStopping # fit the model\n",
        "checkpoint = ModelCheckpoint(\"/content/drive/My Drive/Big_data_sem2/model/vgg16_1.h5\", monitor='val_acc', verbose=1, save_best_only=True, save_weights_only=False, mode='auto', period=1)\n",
        "early = EarlyStopping(monitor='val_acc', min_delta=0, patience=20, verbose=1, mode='auto')\n",
        "hist = model.fit_generator(steps_per_epoch=10,generator=traindata, validation_data= testdata, validation_steps=10,epochs=20,callbacks=[checkpoint,early])"
      ],
      "execution_count": 12,
      "outputs": [
        {
          "output_type": "stream",
          "text": [
            "Epoch 1/20\n",
            "10/10 [==============================] - 357s 36s/step - loss: 31.0109 - accuracy: 0.1969 - val_loss: 25.3386 - val_accuracy: 0.4187\n",
            "Epoch 2/20\n"
          ],
          "name": "stdout"
        },
        {
          "output_type": "stream",
          "text": [
            "/usr/local/lib/python3.6/dist-packages/keras/callbacks/callbacks.py:707: RuntimeWarning: Can save best model only with val_acc available, skipping.\n",
            "  'skipping.' % (self.monitor), RuntimeWarning)\n",
            "/usr/local/lib/python3.6/dist-packages/keras/callbacks/callbacks.py:846: RuntimeWarning: Early stopping conditioned on metric `val_acc` which is not available. Available metrics are: val_loss,val_accuracy,loss,accuracy\n",
            "  (self.monitor, ','.join(list(logs.keys()))), RuntimeWarning\n"
          ],
          "name": "stderr"
        },
        {
          "output_type": "stream",
          "text": [
            "10/10 [==============================] - 320s 32s/step - loss: 16.9455 - accuracy: 0.5063 - val_loss: 15.5750 - val_accuracy: 0.5969\n",
            "Epoch 3/20\n",
            "10/10 [==============================] - 323s 32s/step - loss: 11.8750 - accuracy: 0.6406 - val_loss: 2.3897 - val_accuracy: 0.7688\n",
            "Epoch 4/20\n",
            "10/10 [==============================] - 319s 32s/step - loss: 7.2639 - accuracy: 0.7594 - val_loss: 11.1376 - val_accuracy: 0.8062\n",
            "Epoch 5/20\n",
            "10/10 [==============================] - 302s 30s/step - loss: 5.4949 - accuracy: 0.8322 - val_loss: 7.7093 - val_accuracy: 0.8594\n",
            "Epoch 6/20\n",
            "10/10 [==============================] - 321s 32s/step - loss: 3.2037 - accuracy: 0.8562 - val_loss: 4.6179 - val_accuracy: 0.8344\n",
            "Epoch 7/20\n",
            "10/10 [==============================] - 316s 32s/step - loss: 3.3111 - accuracy: 0.8938 - val_loss: 4.1073 - val_accuracy: 0.8844\n",
            "Epoch 8/20\n",
            "10/10 [==============================] - 325s 32s/step - loss: 2.4044 - accuracy: 0.9125 - val_loss: 1.5457 - val_accuracy: 0.9000\n",
            "Epoch 9/20\n",
            "10/10 [==============================] - 317s 32s/step - loss: 2.8652 - accuracy: 0.9031 - val_loss: 1.1506 - val_accuracy: 0.8658\n",
            "Epoch 10/20\n",
            "10/10 [==============================] - 325s 32s/step - loss: 4.0371 - accuracy: 0.8750 - val_loss: 5.7996 - val_accuracy: 0.9281\n",
            "Epoch 11/20\n",
            "10/10 [==============================] - 321s 32s/step - loss: 3.4782 - accuracy: 0.8813 - val_loss: 1.1808 - val_accuracy: 0.9312\n",
            "Epoch 12/20\n",
            "10/10 [==============================] - 324s 32s/step - loss: 3.3888 - accuracy: 0.9156 - val_loss: 2.6420 - val_accuracy: 0.9062\n",
            "Epoch 13/20\n",
            "10/10 [==============================] - 320s 32s/step - loss: 2.4852 - accuracy: 0.8938 - val_loss: 4.2336 - val_accuracy: 0.9169\n",
            "Epoch 14/20\n",
            "10/10 [==============================] - 324s 32s/step - loss: 2.4236 - accuracy: 0.9125 - val_loss: 1.6601 - val_accuracy: 0.9312\n",
            "Epoch 15/20\n",
            "10/10 [==============================] - 321s 32s/step - loss: 2.3643 - accuracy: 0.9187 - val_loss: 4.0233e-07 - val_accuracy: 0.9375\n",
            "Epoch 16/20\n",
            "10/10 [==============================] - 323s 32s/step - loss: 3.0044 - accuracy: 0.9031 - val_loss: 4.1628 - val_accuracy: 0.8781\n",
            "Epoch 17/20\n",
            "10/10 [==============================] - 319s 32s/step - loss: 3.4262 - accuracy: 0.9125 - val_loss: 2.7479 - val_accuracy: 0.9281\n",
            "Epoch 18/20\n",
            "10/10 [==============================] - 322s 32s/step - loss: 1.7834 - accuracy: 0.9563 - val_loss: 9.1235e-05 - val_accuracy: 0.9425\n",
            "Epoch 19/20\n",
            "10/10 [==============================] - 320s 32s/step - loss: 0.8816 - accuracy: 0.9563 - val_loss: 4.2190 - val_accuracy: 0.9375\n",
            "Epoch 20/20\n",
            "10/10 [==============================] - 322s 32s/step - loss: 2.0328 - accuracy: 0.9469 - val_loss: 0.9302 - val_accuracy: 0.9312\n"
          ],
          "name": "stdout"
        }
      ]
    },
    {
      "cell_type": "code",
      "metadata": {
        "id": "E6OfCFEpiPAq",
        "colab_type": "code",
        "colab": {}
      },
      "source": [
        "import tensorflow as tf \n",
        "\n",
        "from keras.models import load_model\n",
        "\n",
        "model.save('veg_classification_vgg_model.h5') # saving the model "
      ],
      "execution_count": 0,
      "outputs": []
    },
    {
      "cell_type": "code",
      "metadata": {
        "id": "BjYPxkus72Y9",
        "colab_type": "code",
        "colab": {
          "base_uri": "https://localhost:8080/",
          "height": 295
        },
        "outputId": "27802170-2e9e-4892-a349-0c7932220e5b"
      },
      "source": [
        "# plotting the accurcy\n",
        "plt.plot(hist.history[\"accuracy\"])\n",
        "plt.plot(hist.history['val_accuracy'])\n",
        "plt.plot(hist.history['loss'])\n",
        "plt.plot(hist.history['val_loss'])\n",
        "plt.title(\"model accuracy\")\n",
        "plt.ylabel(\"Accuracy\")\n",
        "plt.xlabel(\"Epoch\")\n",
        "plt.legend([\"Accuracy\",\"Validation Accuracy\",\"loss\",\"Validation Loss\"])\n",
        "plt.show()"
      ],
      "execution_count": 14,
      "outputs": [
        {
          "output_type": "display_data",
          "data": {
            "image/png": "[encoded data removed]",
            "text/plain": [
              "<Figure size 432x288 with 1 Axes>"
            ]
          },
          "metadata": {
            "tags": [],
            "needs_background": "light"
          }
        }
      ]
    },
    {
      "cell_type": "code",
      "metadata": {
        "id": "kK8Aq6iL8Ih6",
        "colab_type": "code",
        "colab": {}
      },
      "source": [
        ""
      ],
      "execution_count": 0,
      "outputs": []
    }
  ]
}